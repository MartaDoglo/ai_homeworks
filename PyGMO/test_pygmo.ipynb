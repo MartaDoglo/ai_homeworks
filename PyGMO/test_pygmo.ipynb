{
 "cells": [
  {
   "cell_type": "code",
   "execution_count": 7,
   "metadata": {},
   "outputs": [],
   "source": [
    "import pygmo as pg\n",
    "import numpy as np\n",
    "\n",
    "class py_shwef:\n",
    "    def __init__(self,dim):\n",
    "        self.dim = dim\n",
    "\n",
    "    def fitness(self,x):\n",
    "        retval = np.zeros((1,))\n",
    "        retval[0] = 418.9829*self.dim-np.sum(x*np.sin(np.sqrt(np.abs(x))))\n",
    "        return retval\n",
    "\n",
    "    def get_bounds(self):\n",
    "        return (np.full((self.dim,),-500.),np.full((self.dim,),500.))"
   ]
  },
  {
   "cell_type": "code",
   "execution_count": 8,
   "metadata": {
    "pycharm": {
     "name": "#%%\n"
    }
   },
   "outputs": [],
   "source": [
    "prob = pg.problem(py_shwef(2))\n",
    "algo = pg.algorithm(pg.de(gen = 50))\n",
    "\n",
    "pop = pg.population(prob, 50)\n",
    "pop = algo.evolve(pop)"
   ]
  },
  {
   "cell_type": "code",
   "execution_count": 9,
   "metadata": {
    "pycharm": {
     "name": "#%%\n"
    }
   },
   "outputs": [
    {
     "name": "stdout",
     "output_type": "stream",
     "text": [
      "[421.29550936 421.05636047] [0.01446885]\n"
     ]
    }
   ],
   "source": [
    "print(pop.champion_x, pop.champion_f)"
   ]
  },
  {
   "cell_type": "code",
   "execution_count": 9,
   "metadata": {},
   "outputs": [],
   "source": []
  }
 ],
 "metadata": {
  "kernelspec": {
   "display_name": "Python 3",
   "language": "python",
   "name": "python3"
  },
  "language_info": {
   "codemirror_mode": {
    "name": "ipython",
    "version": 3
   },
   "file_extension": ".py",
   "mimetype": "text/x-python",
   "name": "python",
   "nbconvert_exporter": "python",
   "pygments_lexer": "ipython3",
   "version": "3.8.5"
  }
 },
 "nbformat": 4,
 "nbformat_minor": 1
}